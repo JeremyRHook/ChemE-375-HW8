{
 "cells": [
  {
   "cell_type": "markdown",
   "metadata": {},
   "source": [
    "# Homework 8b: Integrals, Interpolation, Curve Fit "
   ]
  },
  {
   "cell_type": "markdown",
   "metadata": {},
   "source": [
    "### Problem 1\n",
    "\n",
    "Find the numerical integral of the following function:\n",
    "$$I = \\int_0^{3\\pi} \\frac{e^{x}\\sin^3(x)}{x^2}dx.$$\n",
    "\n",
    "Try to find the symbolic solution using Sympy and report what happens."
   ]
  },
  {
   "cell_type": "code",
   "execution_count": 86,
   "metadata": {},
   "outputs": [
    {
     "name": "stdout",
     "output_type": "stream",
     "text": [
      "Symbolic\n"
     ]
    },
    {
     "data": {
      "text/latex": [
       "$\\displaystyle \\int \\frac{e^{x} \\sin^{3}{\\left(x \\right)}}{x^{2}}\\, dx$"
      ],
      "text/plain": [
       "Integral(exp(x)*sin(x)**3/x**2, x)"
      ]
     },
     "execution_count": 86,
     "metadata": {},
     "output_type": "execute_result"
    }
   ],
   "source": [
    "import sympy as sp\n",
    "x = sp.Symbol('x')\n",
    "print('Symbolic')\n",
    "sp.integrate((sp.exp(x) * (sp.sin(x))**3 / x**2),x)"
   ]
  },
  {
   "cell_type": "code",
   "execution_count": 87,
   "metadata": {},
   "outputs": [
    {
     "name": "stdout",
     "output_type": "stream",
     "text": [
      "Numerical Answer =\n",
      "55.88692117276372\n"
     ]
    }
   ],
   "source": [
    "from scipy.integrate import quad\n",
    "\n",
    "\n",
    "def f(x):\n",
    "    return sp.exp(x) * (sp.sin(x))**3 / x**2\n",
    "\n",
    "i = quad(f,0,3*sp.pi)\n",
    "\n",
    "print('Numerical Answer =')\n",
    "print(i[0])\n"
   ]
  },
  {
   "cell_type": "code",
   "execution_count": 88,
   "metadata": {},
   "outputs": [
    {
     "name": "stdout",
     "output_type": "stream",
     "text": [
      "Numerical Answer =\n",
      "55.88692117276372\n"
     ]
    }
   ],
   "source": [
    "import numpy as np\n",
    "def f(x):\n",
    "    return np.exp(x) * (np.sin(x))**3 / x**2\n",
    "\n",
    "i = quad(f,0,3*np.pi)\n",
    "\n",
    "print('Numerical Answer =')\n",
    "print(i[0])"
   ]
  },
  {
   "cell_type": "markdown",
   "metadata": {},
   "source": [
    "### Problem 2\n",
    "Given the data ```x_given``` and ```y_given``` below. Find the linear interpolate y_il corresponding to ```x_i=0.54```. Also find the cubic spline value of y_is at the same point. The ```x_given``` and ```y_given``` values are computed from $y=f(x)=\\exp(4x)$. Find the relative error between your interpolants and the exact value. The relative error is given by $\\epsilon = |(y-y_{exact})/y_{exact}|$. Are you happy with the result?"
   ]
  },
  {
   "cell_type": "code",
   "execution_count": 89,
   "metadata": {},
   "outputs": [
    {
     "name": "stdout",
     "output_type": "stream",
     "text": [
      "error for Linear is = 0.3615118465247755\n",
      "error for Cubic Spline is = -0.05784101573428153\n",
      "The Cubic Spline is a close to acceptable answer,while the Linear is not a great answer, but maybe good for a initial guess\n"
     ]
    },
    {
     "data": {
      "image/png": "[encoded data removed]",
      "text/plain": [
       "<Figure size 432x288 with 1 Axes>"
      ]
     },
     "metadata": {
      "needs_background": "light"
     },
     "output_type": "display_data"
    }
   ],
   "source": [
    "import matplotlib.pyplot as plt\n",
    "import numpy as np\n",
    "from scipy.optimize import fsolve\n",
    "from scipy.interpolate import *\n",
    "%matplotlib inline\n",
    "\n",
    "\n",
    "x = np.linspace(0,1)\n",
    "y = np.exp(4*x)\n",
    "plt.plot(x,y)\n",
    "\n",
    "x_given = np.array([0,0.2,0.4,0.8,1.0])\n",
    "y_given = np.exp(4.0*x_given)\n",
    "plt.plot(x_given,y_given)\n",
    "\n",
    "\n",
    "#Linear Interpolate\n",
    "\n",
    "f1 = interp1d(x_given, y_given)\n",
    "y1     = f1(x)\n",
    "plt.plot(x,y1,'-')\n",
    "\n",
    "\n",
    "#Cubic Spline Value Interpolation\n",
    "\n",
    "f2 = interp1d(x_given, y_given, kind='cubic')\n",
    "y2 = f2(x)\n",
    "plt.plot(x,y2,'--')\n",
    "\n",
    "\n",
    "\n",
    "x_i     = 0.54\n",
    "y_exact = np.exp(4*x_i)\n",
    "\n",
    "y1 = f1(x_i)\n",
    "y2 = f2(x_i)\n",
    "\n",
    "print('error for Linear is =',(y1-y_exact)/y_exact)\n",
    "print('error for Cubic Spline is =',(y2-y_exact)/y_exact)\n",
    "print('The Cubic Spline is a close to acceptable answer,\\\n",
    "while the Linear is not a great answer, but maybe good for \\\n",
    "a initial guess')\n",
    "\n"
   ]
  },
  {
   "cell_type": "code",
   "execution_count": null,
   "metadata": {},
   "outputs": [],
   "source": []
  },
  {
   "cell_type": "markdown",
   "metadata": {},
   "source": [
    "### Problem 3\n",
    "\n",
    "In a previous assignment we used thermo data for heat capacities of species. Its kind of annoying that we have two temperature ranges for each species. For the given array of temperatures (K) below, the corresponding cp/Rg array is given for CH4. This is computed using the equations and the coefficients for the two temperature ranges given in previous assignments.\n",
    "\n",
    "Fit a single 4th order polynomial to the whole range of temperature data. At each point, compare your polynomial fit to the one given. \n",
    "\n",
    "Report the maximum relative error that occurs over the list of temperatures.\n",
    "\n",
    "Plot the two versions to visually compare the original data and your polynomial fit."
   ]
  },
  {
   "cell_type": "code",
   "execution_count": 90,
   "metadata": {},
   "outputs": [
    {
     "name": "stdout",
     "output_type": "stream",
     "text": [
      "0.04918219645017454\n"
     ]
    },
    {
     "data": {
      "image/png": "[encoded data removed]",
      "text/plain": [
       "<Figure size 432x288 with 1 Axes>"
      ]
     },
     "metadata": {
      "needs_background": "light"
     },
     "output_type": "display_data"
    }
   ],
   "source": [
    "T = np.linspace(300.,3000.,100)\n",
    "\n",
    "a_lo = np.array([ 5.15,-1.37E-02,4.92E-05,-4.85E-08,1.67E-11])\n",
    "a_hi = np.array([7.49E-02,1.34E-02,-5.73E-06,1.22E-09,-1.02E-13])\n",
    "i_lo = np.where(np.logical_and(T>=300.0, T<1000.0))\n",
    "i_hi = np.where(np.logical_and(T>=1000.0, T<=3000.0))\n",
    "cpRg = np.zeros(100)\n",
    "cpRg[i_lo] = a_lo[0] + a_lo[1]*T[i_lo] + a_lo[2]*T[i_lo]**2.0 + \\\n",
    "             a_lo[3]*T[i_lo]**3.0 + a_lo[4]*T[i_lo]**4.0\n",
    "cpRg[i_hi] = a_hi[0] + a_hi[1]*T[i_hi] + a_hi[2]*T[i_hi]**2.0 + \\\n",
    "             a_hi[3]*T[i_hi]**3.0 + a_hi[4]*T[i_hi]**4.0\n",
    "\n",
    "\n",
    "p4 = np.polyfit(T,cpRg,4)\n",
    "cpRg_new = np.polyval(p4,T)\n",
    "\n",
    "plt.plot(T,cpRg,'k-')\n",
    "plt.plot(T,cpRg_new, 'r--')\n",
    "\n",
    "RelErr = np.abs((cpRg-cpRg_new)/cpRg)\n",
    "maxRelErr = np.max(RelErr)\n",
    "print(maxRelErr)"
   ]
  },
  {
   "cell_type": "code",
   "execution_count": null,
   "metadata": {},
   "outputs": [],
   "source": []
  },
  {
   "cell_type": "code",
   "execution_count": null,
   "metadata": {},
   "outputs": [],
   "source": []
  },
  {
   "cell_type": "markdown",
   "metadata": {},
   "source": [
    "### Problem 4\n",
    "The following kinetic R(T) were collected. We want to fit this to the following model function: $R = kT^me^{-E_a/(R_gT)}$. Here, $k$, $m$, and $(E_a/R_g)$, are adjustable parameters that we want to find so that our model best fits the data. \n",
    "\n",
    "Find the best parameters and plot the data and the model function together on the same graph.\n"
   ]
  },
  {
   "cell_type": "code",
   "execution_count": 91,
   "metadata": {},
   "outputs": [
    {
     "name": "stdout",
     "output_type": "stream",
     "text": [
      "Best Adjustable parameters [k,m,EaRg]\n",
      "[ 1.12599617e-02  1.02459777e+00 -1.39367349e+03]\n"
     ]
    },
    {
     "data": {
      "text/plain": [
       "[<matplotlib.lines.Line2D at 0x2517f0051c8>]"
      ]
     },
     "execution_count": 91,
     "metadata": {},
     "output_type": "execute_result"
    },
    {
     "data": {
      "image/png": "[encoded data removed]",
      "text/plain": [
       "<Figure size 432x288 with 1 Axes>"
      ]
     },
     "metadata": {
      "needs_background": "light"
     },
     "output_type": "display_data"
    }
   ],
   "source": [
    "from scipy.optimize import curve_fit\n",
    "T = np.linspace(500.,1000.,8)\n",
    "R = [105.598, 89.700, 70.768, 66.996, 60.711, 58.992, 55.8328, 53.420]\n",
    "\n",
    "\n",
    "def f(x,k,m,EaRg):\n",
    "    return k * x**m * np.exp(-EaRg/x)\n",
    "\n",
    "params, extras = curve_fit(f, T, R,)\n",
    "\n",
    "\n",
    "k = params[0]\n",
    "m = params[1]\n",
    "EaRg = params[2]\n",
    "\n",
    "T_more = np.linspace(500,1000,100)\n",
    "R_fit = f(T_more,k,m,EaRg)\n",
    "\n",
    "print('Best Adjustable parameters [k,m,EaRg]')\n",
    "print(params)\n",
    "plt.plot(T_more,R_fit,'b-')\n",
    "plt.plot(T,R,'ro')"
   ]
  },
  {
   "cell_type": "code",
   "execution_count": null,
   "metadata": {},
   "outputs": [],
   "source": []
  },
  {
   "cell_type": "code",
   "execution_count": null,
   "metadata": {},
   "outputs": [],
   "source": []
  }
 ],
 "metadata": {
  "kernelspec": {
   "display_name": "Python 3",
   "language": "python",
   "name": "python3"
  },
  "language_info": {
   "codemirror_mode": {
    "name": "ipython",
    "version": 3
   },
   "file_extension": ".py",
   "mimetype": "text/x-python",
   "name": "python",
   "nbconvert_exporter": "python",
   "pygments_lexer": "ipython3",
   "version": "3.7.4"
  }
 },
 "nbformat": 4,
 "nbformat_minor": 1
}