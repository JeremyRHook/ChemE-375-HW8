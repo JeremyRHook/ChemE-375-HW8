{
 "cells": [
  {
   "cell_type": "markdown",
   "metadata": {},
   "source": [
    "# Homework 8a: Nonlinear Equations\n"
   ]
  },
  {
   "cell_type": "markdown",
   "metadata": {},
   "source": [
    "### Problem 1\n",
    "Use fsolve to find the roots of the polynomial $f(x) = 2x^2 + 3x - 10$."
   ]
  },
  {
   "cell_type": "code",
   "execution_count": 18,
   "metadata": {},
   "outputs": [
    {
     "name": "stdout",
     "output_type": "stream",
     "text": [
      "Roots of the Polynomial [1.60849528] & [-3.10849528]\n"
     ]
    },
    {
     "data": {
      "image/png": "[encoded data removed]",
      "text/plain": [
       "<Figure size 432x288 with 1 Axes>"
      ]
     },
     "metadata": {
      "needs_background": "light"
     },
     "output_type": "display_data"
    }
   ],
   "source": [
    "%matplotlib inline\n",
    "import matplotlib.pyplot as plt\n",
    "import numpy as np\n",
    "from scipy.optimize import fsolve\n",
    "\n",
    "def f(x):\n",
    "    y = ((2 * x**2) + (3*x) - 10)\n",
    "    return y\n",
    "\n",
    "x = np.linspace(-5,3)\n",
    "\n",
    "plt.plot(x,f(x))\n",
    "plt.plot(x,np.zeros(len(x)))\n",
    "\n",
    "\n",
    "x1 = fsolve(f,1)\n",
    "\n",
    "x2 = fsolve(f,-1)\n",
    "\n",
    "\n",
    "print('Roots of the Polynomial',x1,'&', x2)"
   ]
  },
  {
   "cell_type": "code",
   "execution_count": null,
   "metadata": {},
   "outputs": [],
   "source": []
  },
  {
   "cell_type": "code",
   "execution_count": null,
   "metadata": {},
   "outputs": [],
   "source": []
  },
  {
   "cell_type": "markdown",
   "metadata": {},
   "source": [
    "### Problem 2\n",
    "\n",
    "Use fsolve to find the solution of the following two equations:\n",
    "\\begin{align}\n",
    "f(x,y) &= 2x^{2/3}+y^{2/3}-9^{1/3} \\\\\n",
    "g(x,y) &= \\frac{x^2}{4} + \\sqrt{y} - 1.\n",
    "\\end{align}\n",
    "Use an initial guess of $x_0=1$, $y_0$ = 1."
   ]
  },
  {
   "cell_type": "code",
   "execution_count": 19,
   "metadata": {},
   "outputs": [
    {
     "name": "stdout",
     "output_type": "stream",
     "text": [
      "fsolve with inital guess x0=1 and y0=1 gives us\n",
      "x = 0.4312399 & y=0.90917758\n"
     ]
    }
   ],
   "source": [
    "def f2(z):\n",
    "    x = z[0]\n",
    "    y = z[1]\n",
    "    f = np.zeros(2)\n",
    "    f[0] = 2 * x**(2/3) + y**(2/3) - 9**(1/3)\n",
    "    f[1] = x**(2) /4 + y**(1/2) - 1\n",
    "    return f\n",
    "\n",
    "z = fsolve(f2,[1,1])\n",
    "#print(z)\n",
    "\n",
    "#check if iz zero at these values\n",
    "#print(f2(z))\n",
    "#Came back very tiny number almost zero \n",
    "\n",
    "print('fsolve with inital guess x0=1 and y0=1 gives us')\n",
    "print('x = 0.4312399 & y=0.90917758')"
   ]
  },
  {
   "cell_type": "code",
   "execution_count": null,
   "metadata": {},
   "outputs": [],
   "source": []
  },
  {
   "cell_type": "code",
   "execution_count": null,
   "metadata": {},
   "outputs": [],
   "source": []
  },
  {
   "cell_type": "markdown",
   "metadata": {},
   "source": [
    "### Problem 3"
   ]
  },
  {
   "cell_type": "code",
   "execution_count": 20,
   "metadata": {},
   "outputs": [
    {
     "name": "stdout",
     "output_type": "stream",
     "text": [
      "\n",
      "Retrieved thermoData.yaml\n"
     ]
    }
   ],
   "source": [
    "# import or install wget\n",
    "try:\n",
    "    import wget\n",
    "except:\n",
    "    try:\n",
    "        from pip import main as pipmain\n",
    "    except:\n",
    "        from pip._internal import main as pipmain\n",
    "    pipmain(['install','wget'])\n",
    "    import wget\n",
    "\n",
    "# retrieve thermoData.yaml\n",
    "url = 'https://apmonitor.com/che263/uploads/Main/thermoData.yaml'\n",
    "filename = wget.download(url)\n",
    "print('')\n",
    "print('Retrieved thermoData.yaml')"
   ]
  },
  {
   "cell_type": "markdown",
   "metadata": {},
   "source": [
    "Compute the adiabatic flame temperature for a stoichiometric methane-air flame. The code is given below. There is a thermo class that is modified from your last homework. Also, you'll need thermoData.yaml again. Then there is a function to define. Fill in the blanks as indicated. You should also read all of the code given below and make sure you understand it.\n",
    "\n",
    "**Equation Summary:** \n",
    "* Your function (started for you below) is: ```f_flame(Ta) = 0```. \n",
    "* That is, $f_{flame}(T_a) = 0 = H_r(T_r) - H_p(T_a) = 0$. \n",
    "    * $T_a$ is the unknown.\n",
    "    * $T_r = 300\\,K$\n",
    "    * $H_r(T_r) = y_{CH4}h_{CH4}(T_r) + y_{O2}h_{O2}(T_r) + y_{N2}h_{N2}(T_r)$.\n",
    "    * $H_p(T_a) = y_{CO2}h_{CO2}(T_a) + y_{H2O}h_{H2O}(T_a) + y_{N2}h_{N2}(T_a)$.\n",
    "    * $y_i = m_i/m_t$. \n",
    "        * $m_i = n_iM_i$.\n",
    "        * $n_i$ and $M_i$ are given.\n",
    "        * $m_t = \\sum_im_i$.\n",
    "        * **Do these separately for reactants and products** That is: $m_t = m_{O2}+m_{N2}+m_{CH4}$ for the reactants. (Also $m_t$ is the same for products since mass is conserved.)\n",
    "    * $h_i$ is computed using the thermo class. So, if ```t_CO2``` is my thermo class object for $CO_2$, then ```h_CO2=t_CO2.h_mass(T)```. \n",
    "    \n",
    "\n",
    "**Description:**\n",
    "* We have a chemical reaction:\n",
    "    * $CH_4 + 2O_2 + 7.52N_2 \\rightarrow CO_2 + 2H_2O$ + 7.52$N_2$.\n",
    "* You can think of the burning as potential energy stored in the reactant bonds being released as kinetic energy in the products so the product temperature is higher.\n",
    "* Adiabatic means there is no enthalpy loss. You can think of enthalpy as energy. This means the products have the same enthalpy as the reactants. And this is just a statement that energy is conserved, like mass is.\n",
    "* The idea is to take a known reactant temperature, find the reactant enthalpy (which is an easy explicit equation you can calculate directly), then set the product enthalpy equal to the reactant enthalpy and find the corresponding product temperature (which is a harder nonlinear solve).\n",
    "    * $T_r\\rightarrow h_r = h_p \\rightarrow T_p$.\n",
    "* The reactants start at room temperature, $T=300\\,K$, so we can compute their enthalpy.\n",
    "    * We know the moles of reactants: $n_{ch4}=1$, $n_{O2}=2$, $n_{N2}=7.52$. \n",
    "    * So, we can compute the corresponding masses using the molecular weights.\n",
    "    * Then we sum the masses of each species to get the total mass, and compute the mass fractions.\n",
    "    * Then we can compute the enthalpy as $h=\\sum_iy_ih_i$. That is, the total enthalpy is the sum of the enthalpy per unit mass of each species times the mass fraction of each species.\n",
    "        * For reactants we have $h_r = y_{CH4}h_{CH4}+y_{O2}h_{O2}+y_{N2}h_{N2}$, where $h_i$ are evaluated using the class function h_mass(T), and T=300 for reactants.\n",
    "* Now, $h_p=h_r$. For products, we have $h_p = y_{CO2}h_{CO2}+y_{H2O}h_{H2O}+y_{N2}h_{N2}$, where we evaluate the class function h_mass(Tp), where Tp is the product temperature we are trying to compute.\n",
    "    * Solving for $T_p$ amounts to solving $f(T_p)=0$, where $$f(T_p) = h_p - y_{CO2}h_{CO2}(T_p)+y_{H2O}h_{H2O}(T_p)+y_{N2}h_{N2}(T_p)$$.\n",
    "\n",
    "\n",
    "\n",
    "\n"
   ]
  },
  {
   "cell_type": "code",
   "execution_count": 21,
   "metadata": {},
   "outputs": [],
   "source": [
    "import numpy as np\n",
    "from scipy.optimize import fsolve\n",
    "import yaml\n",
    "\n",
    "class thermo:\n",
    "    def __init__(self, species, MW) :\n",
    "        \"\"\"\n",
    "        species: input string name of species in thermoData.yaml\n",
    "        M: input (species molecular weight, kg/kmol)\n",
    "        \"\"\"\n",
    "        self.Rgas = 8314.46      # J/kmol*K\n",
    "        self.M    = MW\n",
    "        with open(\"thermoData.yaml\") as yfile :          \n",
    "           yfile = yaml.load(yfile, Loader=yaml.FullLoader)\n",
    "        self.a_lo = yfile[species][\"a_lo\"]\n",
    "        self.a_hi = yfile[species][\"a_hi\"]\n",
    "        self.T_lo = 300.\n",
    "        self.T_mid = 1000.\n",
    "        self.T_hi = 3000.\n",
    "        \n",
    "    #--------------------------------------------------------\n",
    "    def h_mole(self,T) :\n",
    "        \"\"\"\n",
    "        return enthalpy in units of J/kmol\n",
    "        T: input (K)\n",
    "        \"\"\"\n",
    "        if T<=self.T_mid and T>=self.T_lo :\n",
    "            a = self.a_lo\n",
    "        elif T>self.T_mid and T<=self.T_hi :\n",
    "            a = self.a_hi\n",
    "        else :\n",
    "            print (\"ERROR: temperature is out of range\")\n",
    "        hrt = a[0] + a[1]/2.0*T + a[2]/3.0*T*T + a[3]/4.0*T**3.0 + a[4]/5.0*T**4.0 + a[5]/T\n",
    "        return hrt * self.Rgas * T\n",
    "        \n",
    "    #--------------------------------------------------------\n",
    "    def h_mass(self,T) :\n",
    "        \"\"\"\n",
    "        return enthalpy in units of J/kg\n",
    "        T: input (K)\n",
    "        \"\"\"\n",
    "        return self.h_mole(T)/self.M"
   ]
  },
  {
   "cell_type": "code",
   "execution_count": 26,
   "metadata": {},
   "outputs": [
    {
     "name": "stdout",
     "output_type": "stream",
     "text": [
      "f(Tp) = 0 at\n",
      "[2326.90561111]\n"
     ]
    }
   ],
   "source": [
    "%matplotlib inline\n",
    "import matplotlib.pyplot as plt\n",
    "import numpy as np\n",
    "from scipy.optimize import fsolve\n",
    "\n",
    "\n",
    "def f_flame(Ta) :\n",
    "    \"\"\" \n",
    "    We are solving for hp = sum_i y_i*h_i. In f=0 form this is f = hp - sum_i y_i*h_i\n",
    "    We know the reactant temperature, so we can compute enthalpy (h). Then we know hp = hr (adiabatic).\n",
    "    Vary T until sum_i y_i*h_i = hp.\n",
    "    Steps: \n",
    "        1. Given moles --> mass --> mass fractions.\n",
    "        2. Make thermo classes for each species.\n",
    "        3. Compute hr = sum_i y_i*h_i.\n",
    "        ... Do this for the reactants, then products.   \n",
    "    \"\"\"\n",
    "    no2 = 2.                        # kmol\n",
    "    nch4 = 1.                       \n",
    "    nn2  = 7.52                     \n",
    "    nco2 = 1.\n",
    "    nh2o = 2.\n",
    "    Mo2 = 32.                       # kg/kmol\n",
    "    Mch4 = 16.                      \n",
    "    Mn2  = 28.                      \n",
    "    Mco2 = 44.\n",
    "    Mh2o = 18.\n",
    "    mo2 = no2*Mo2                   # mass \n",
    "    mch4 = nch4*Mch4                # mass \n",
    "    mn2 = nn2*Mn2                   # mass \n",
    "    mh2o = nh2o*Mh2o\n",
    "    mco2 = nco2*Mco2\n",
    "    t_o2 = thermo(\"O2\",Mo2)         # thermo object; use as: t_o2.h_mass(T) to get h_O2, etc.\n",
    "    t_ch4 = thermo(\"CH4\",Mch4)\n",
    "    t_n2 = thermo(\"N2\",Mn2)\n",
    "    t_co2 = thermo(\"CO2\",Mco2)\n",
    "    t_h2o = thermo(\"H2O\",Mh2o)\n",
    "\n",
    "    #-------- Reactants\n",
    "    # TO DO: compute total mass, then mass fractions\n",
    "    \n",
    "    mt = mo2 + mch4 + mn2\n",
    "    yo2 = mo2/mt\n",
    "    ych4 = mch4/mt\n",
    "    yn2 = mn2/mt\n",
    "    # TO DO: Set reactant temperature, then compute reactant enthalpy\n",
    "    \n",
    "    Tr = 300\n",
    "    hr = yo2  * t_o2.h_mass(Tr) + \\\n",
    "         ych4 * t_ch4.h_mass(Tr) + \\\n",
    "         yn2  * t_n2.h_mass(Tr)\n",
    "    \n",
    "    \n",
    "    \n",
    "    #---------- Products\n",
    "    # TO DO: Set the product enthalpy = reactant enthalpy\n",
    "    \n",
    "    \n",
    "    # TO DO: Set the product mass fractions\n",
    "    \n",
    "    yco2 = mco2/mt\n",
    "    yh2o = mh2o/mt\n",
    "    yn2  = mn2/mt\n",
    "    \n",
    "    hp = yco2 * t_co2.h_mass(Ta) + \\\n",
    "         yh2o * t_h2o.h_mass(Ta) + \\\n",
    "         yn2  * t_n2.h_mass(Ta)\n",
    "    \n",
    "    \n",
    "    \n",
    "    # TO DO: Compute the enthalpy of the products corresponding to the current Tp\n",
    "    \n",
    "    #        Then return the function: f(Tp) = hp - hp_based_on_current_Tp\n",
    "    \n",
    "    return hp - hr\n",
    "\n",
    "#make a guess of T\n",
    "T = 1000\n",
    "#print(f_flamt(T))\n",
    "\n",
    "Ta = fsolve(f_flame,T)\n",
    "#print(Ta)\n",
    "#print(f_flame(Ta)) check if the answer is zero, A: it is very close\n",
    "\n",
    "print('f(Tp) = 0 at')\n",
    "print(Ta)"
   ]
  },
  {
   "cell_type": "code",
   "execution_count": null,
   "metadata": {},
   "outputs": [],
   "source": []
  },
  {
   "cell_type": "markdown",
   "metadata": {},
   "source": [
    "### Problem 4"
   ]
  },
  {
   "cell_type": "markdown",
   "metadata": {},
   "source": [
    "**Example: Solve a system of 6 equations in 6 unknowns**\n",
    "\n",
    "This is solving a parallel pipe network where we have three pipes that are connected at the beginning and the end. The pipes can be of different lengths and diameter and pipe roughness.  Given the total flow rate, and the pipe properties, find the flow rate through each of three parallel pipes.\n",
    "* **Unknowns: three flow rates: $Q_1$, $Q_2$, $Q_3$**.\n",
    "* We need ***three equations***. \n",
    "    * We'll label the pipes 1, 2, and 3. \n",
    "    * **Eq. 1:** $Q_{tot} = Q_1+Q_2+Q_3$.\n",
    "        * That is, the total flow rate is just the sum through each pipe.\n",
    "    * Because the pipes are connected, the pressure drop across each pipe is the same: \n",
    "        * **Eq. 2:** $\\Delta P_1=\\Delta P_2,$\n",
    "        * **Eq. 3:** $\\Delta P_1=\\Delta P_3$\n",
    "* Now we need to relate the pressure drop equations to the unknowns. The pressure is related to the flow rate by:\n",
    "    * $\\Delta P=\\frac{fL\\rho v^2}{2D}$, and we use $Q=Av=\\frac{\\pi}{4}D^2v\\rightarrow v=\\frac{4Q}{\\pi D^2}$, where $Q$ is volumetric flow rate. Then, substitute for v to get: $$\\Delta P=\\frac{fL\\rho}{2D}\\left(\\frac{4Q}{\\pi D^2}\\right)^2$$\n",
    "* Here, $f$ is the friction factor in the pipe. We treat it as an unknown so we have **three more unknowns: $f_1$, $f_2$, $f_3$**. The Colbrook equation relates $f$ to $Q$ for given pipe properties. So, we have **three more equations**.\n",
    "\n",
    "* Here are the **six equations** in terms of the **six unknowns: $Q_1$, $Q_2$, $Q_3$, $f_1$, $f_2$, $f_3$**.\n",
    "    1. $Q_1+Q_2+Q_3-Q_{tot} = 0$.\n",
    "    2.  $\\frac{f_1L_1\\rho}{2D_1}\\left(\\frac{4Q_1}{\\pi D_1^2}\\right)^2 - \\frac{f_2L_2\\rho}{2D_2}\\left(\\frac{4Q_2}{\\pi D_2^2}\\right)^2 = 0$\n",
    "    3. $\\frac{f_1L_1\\rho}{2D_1}\\left(\\frac{4Q_1}{\\pi D_1^2}\\right)^2 - \\frac{f_3L_3\\rho}{2D_3}\\left(\\frac{4Q_3}{\\pi D_3^2}\\right)^2 = 0$\n",
    "    4. Colbrook equation relating $f_1$ to $Q_1$: \n",
    "    $$\\frac{1}{\\sqrt{f_1}}+2\\log_{10}\\left(\\frac{\\epsilon_1}{3.7D_1} + \\frac{2.51\\mu\\pi D_1}{\\rho 4Q_1\\sqrt{f_1}}\\right)=0.$$\n",
    "    5. Colbrook equation relating $f_2$ to $Q_2$.\n",
    "    6. Colbrook equation relating $f_3$ to $Q_3$.\n",
    "   \n",
    "    \n",
    "\n",
    "* All units are SI."
   ]
  },
  {
   "cell_type": "code",
   "execution_count": 17,
   "metadata": {},
   "outputs": [
    {
     "name": "stdout",
     "output_type": "stream",
     "text": [
      "[Q1,         Q2,         Q3,      f1,          f2,        f3] \n",
      "[0.00574894 0.00392461 0.00365645 0.03001639 0.02535501 0.03039314]\n"
     ]
    }
   ],
   "source": [
    "%matplotlib inline\n",
    "import matplotlib.pyplot as plt\n",
    "import numpy as np\n",
    "from scipy.optimize import fsolve\n",
    "\n",
    "\n",
    "def F_pipes(x) :\n",
    "    Q1 = x[0]           # rename the vars so we can read our equations below.\n",
    "    Q2 = x[1]\n",
    "    Q3 = x[2]\n",
    "    f1 = x[3]\n",
    "    f2 = x[4]\n",
    "    f3 = x[5]\n",
    "        \n",
    "    Qt = 0.01333       # Given total volumetric flow rate\n",
    "    e1 = 0.00024       # pipe roughness (m) (epsilon in the equation)\n",
    "    e2 = 0.00012      \n",
    "    e3 = 0.0002\n",
    "    L1 = 100           # pipe length (m)\n",
    "    L2 = 150\n",
    "    L3 = 80\n",
    "    D1 = 0.05          # pipe diameter (m)\n",
    "    D2 = 0.045\n",
    "    D3 = 0.04\n",
    "    mu = 1.002E-3      # viscosity (kg/m*s)\n",
    "    rho = 998.         # density (kg/m3)\n",
    "\n",
    "    F = np.zeros(6)    # initialize the function array\n",
    "\n",
    "    # TO DO: Define the functions here\n",
    "    \n",
    "    F[0] = Q1+Q2+Q3-Qt;    # equation 1\n",
    "    F[1] = f1*L1/D1*rho/2*(4*Q1/np.pi/D1**2)**2 - \\\n",
    "           f2*L2/D2*rho/2*(4*Q2/np.pi/D2**2)**2; # equation 2 \n",
    "    F[2] = f1*L1/D1*rho/2*(4*Q1/np.pi/D1**2)**2 - \\\n",
    "           f3*L3/D3*rho/2*(4*Q3/np.pi/D3**2)**2;  # equation 3\n",
    "    F[3] = 1./np.sqrt(f1) + 2.*np.log10(e1/D1/3.7 + \\\n",
    "           2.51/(rho*D1/mu*4.*Q1/np.pi/D1**2/np.sqrt(f1))); # equation 4\n",
    "    F[4] = 1./np.sqrt(f2) + 2.*np.log10(e2/D2/3.7 + \\\n",
    "           2.51/(rho*D2/mu*4.*Q2/np.pi/D2**2/np.sqrt(f2))); # equation 5\n",
    "    F[5] = 1./np.sqrt(f3) + 2.*np.log10(e3/D3/3.7 + \\\n",
    "           2.51/(rho*D3/mu*4.*Q3/np.pi/D3**2/np.sqrt(f3))); # equation 6\n",
    "    \n",
    "    \n",
    "    return F \n",
    "        \n",
    "#--------------------------------------\n",
    "# TO DO: make a guess array for the unknowns: Q1, Q2, Q3, f1, f2, f3\n",
    "#     (use Q3 = Qtot-Q1-Q2 in your guess, for consistency)\n",
    "# TO DO: Solve the problem and print the results.\n",
    "\n",
    "Qt = 0.01333; # Given Total volumetric Flow Rate\n",
    "xGuess = np.array([.001,.001, Qt-.001-.001, .01, .01,.01]); # inital guess array\n",
    "            #        Q1    Q2    Q3          f1   f2  f3\n",
    "\n",
    "x = fsolve(F_pipes, xGuess)\n",
    "\n",
    "print (\"[Q1,         Q2,         Q3,      f1,          f2,        f3] \")\n",
    "print(x)\n"
   ]
  },
  {
   "cell_type": "code",
   "execution_count": null,
   "metadata": {},
   "outputs": [],
   "source": []
  }
 ],
 "metadata": {
  "kernelspec": {
   "display_name": "Python 3",
   "language": "python",
   "name": "python3"
  },
  "language_info": {
   "codemirror_mode": {
    "name": "ipython",
    "version": 3
   },
   "file_extension": ".py",
   "mimetype": "text/x-python",
   "name": "python",
   "nbconvert_exporter": "python",
   "pygments_lexer": "ipython3",
   "version": "3.7.4"
  }
 },
 "nbformat": 4,
 "nbformat_minor": 1
}